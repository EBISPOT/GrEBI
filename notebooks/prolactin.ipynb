{
 "cells": [
  {
   "cell_type": "code",
   "execution_count": 1,
   "metadata": {},
   "outputs": [],
   "source": [
    "import sys, os, io, json\n",
    "from neo4j import GraphDatabase\n",
    "from py2neo import Graph\n",
    "from pathlib import Path\n",
    "from pandas import DataFrame\n",
    "import pandas as pd\n",
    "import networkx as nx\n",
    "\n",
    "graph = Graph(\"bolt://localhost:7687\")\n",
    "driver = GraphDatabase.driver('bolt://localhost:7687', auth=None)"
   ]
  },
  {
   "cell_type": "code",
   "execution_count": 2,
   "metadata": {},
   "outputs": [],
   "source": [
    "\n",
    "from util_aggr_counts import aggr_counts\n",
    "\n",
    "aggr_counts(graph, \"hp:0000870\").to_csv(\"prolactin_aggr_counts.csv\", index=False)\n"
   ]
  },
  {
   "cell_type": "code",
   "execution_count": 17,
   "metadata": {},
   "outputs": [],
   "source": [
    "df = DataFrame(graph.run(\"\"\"\n",
    "MATCH (id:Id { id: $id })<-[:id]-(phenotype:GraphNode)<-[r1:`biolink:has_phenotype`|`ro:disease_has_feature`|`obo:mondo#disease_has_major_feature`|`ro:has_characteristic`|`ro:causally_related_to`]-(disease)\n",
    "RETURN disease.id as ids, disease.`grebi:name` AS disease, disease.`grebi:description`[0] AS description\n",
    "\"\"\", { 'id': \"hp:0000870\" }).data())\n",
    "\n",
    "with open(\"prolactin_diseases.csv\", \"w\") as f:\n",
    "    df.to_csv(f, index=False)"
   ]
  },
  {
   "cell_type": "code",
   "execution_count": null,
   "metadata": {},
   "outputs": [],
   "source": []
  }
 ],
 "metadata": {
  "kernelspec": {
   "display_name": ".venv",
   "language": "python",
   "name": "python3"
  },
  "language_info": {
   "codemirror_mode": {
    "name": "ipython",
    "version": 3
   },
   "file_extension": ".py",
   "mimetype": "text/x-python",
   "name": "python",
   "nbconvert_exporter": "python",
   "pygments_lexer": "ipython3",
   "version": "3.12.3"
  }
 },
 "nbformat": 4,
 "nbformat_minor": 2
}
