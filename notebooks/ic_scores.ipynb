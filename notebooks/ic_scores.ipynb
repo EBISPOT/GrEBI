{
 "cells": [
  {
   "cell_type": "code",
   "execution_count": 4,
   "metadata": {},
   "outputs": [],
   "source": [
    "import sys, os, io, json\n",
    "from neo4j import GraphDatabase\n",
    "from py2neo import Graph\n",
    "from pathlib import Path\n",
    "from pandas import DataFrame\n",
    "import pandas as pd\n",
    "import networkx as nx\n",
    "\n",
    "graph = Graph(\"bolt://sarevok:7687\")\n",
    "driver = GraphDatabase.driver('bolt://sarevok:7687', auth=None)\n"
   ]
  },
  {
   "cell_type": "code",
   "execution_count": 5,
   "metadata": {},
   "outputs": [
    {
     "name": "stdout",
     "output_type": "stream",
     "text": [
      "3440826\n"
     ]
    }
   ],
   "source": [
    "# Add num_desc to all onto classes, return the max value\n",
    "\n",
    "df = DataFrame(graph.run(\"\"\"\n",
    "MATCH (ancestor:`ols:Class`)<-[:`biolink:broad_match`*1..]-(subclass:`ols:Class`)\n",
    "WITH ancestor, count(DISTINCT subclass) AS num_desc\n",
    "SET ancestor.num_desc = num_desc\n",
    "RETURN max(num_desc) AS max_num_desc\n",
    "\"\"\").data())\n",
    "\n",
    "max_num_desc=df['max_num_desc'][0]\n",
    "print(max_num_desc)\n",
    "\n"
   ]
  },
  {
   "cell_type": "code",
   "execution_count": 6,
   "metadata": {},
   "outputs": [],
   "source": [
    "# For all onto classes set ic to a normalised value based on the number of descendants where 0 descendants = 1 ic\n",
    "# upper level classes like owl:Thing, bfo continuant will have very low ic scores (< 0.02)\n",
    "\n",
    "df = DataFrame(graph.run(\"\"\"\n",
    "MATCH (cl:`ols:Class`)\n",
    "SET cl.ic = 1.0 - (cl.num_desc/$max_num_desc)\n",
    "\"\"\", {\n",
    "    'max_num_desc': float(max_num_desc)\n",
    "}).data())\n",
    "\n"
   ]
  },
  {
   "cell_type": "code",
   "execution_count": 7,
   "metadata": {},
   "outputs": [],
   "source": [
    "\n",
    "df = DataFrame(graph.run(\"\"\"\n",
    "CREATE INDEX ic FOR (n:GraphNode) ON (n.ic)\n",
    "\"\"\").data())"
   ]
  },
  {
   "cell_type": "markdown",
   "metadata": {},
   "source": [
    "# Which nodes have an IC score of less than 0.5?"
   ]
  },
  {
   "cell_type": "code",
   "execution_count": 8,
   "metadata": {},
   "outputs": [
    {
     "name": "stdout",
     "output_type": "stream",
     "text": [
      "|    | name                          |          ic |\n",
      "|---:|:------------------------------|------------:|\n",
      "|  0 | bfo:continuant                | 0.0177263   |\n",
      "|  1 | bfo:independent_continuant    | 0.0746248   |\n",
      "|  2 | object                        | 0.0883079   |\n",
      "|  3 | biological entity             | 0.0849909   |\n",
      "|  4 | NCBI_taxonomy:131567          | 0.324593    |\n",
      "|  5 | entity                        | 0           |\n",
      "|  6 | entity                        | 2.64471e-05 |\n",
      "|  7 | organismal entity             | 0.195561    |\n",
      "|  8 | experimental factor           | 0.00919489  |\n",
      "|  9 | Archaea or Eukaryota          | 0.488634    |\n",
      "| 10 | Eukaryota                     | 0.492926    |\n",
      "| 11 | material entity               | 0.0746315   |\n",
      "| 12 | cellular organisms or viruses | 0.251545    |\n",
      "| 13 | obo:ncbitaxon.owl             | 0.245625    |\n",
      "| 14 | obi:organism                  | 0.245622    |\n",
      "| 15 | Thing                         | 2.55753e-05 |\n"
     ]
    }
   ],
   "source": [
    "\n",
    "df = DataFrame(graph.run(\"\"\"\n",
    "MATCH (n:GraphNode) WHERE n.ic < 0.5\n",
    "RETURN n.`grebi:name`[0] AS name, n.ic AS ic\n",
    "\"\"\").data())\n",
    "\n",
    "print(df.to_markdown())"
   ]
  },
  {
   "cell_type": "code",
   "execution_count": 10,
   "metadata": {},
   "outputs": [
    {
     "name": "stdout",
     "output_type": "stream",
     "text": [
      "|    | name                                               |          ic |\n",
      "|---:|:---------------------------------------------------|------------:|\n",
      "|  0 | entity                                             | 0           |\n",
      "|  1 | Thing                                              | 2.55753e-05 |\n",
      "|  2 | entity                                             | 2.64471e-05 |\n",
      "|  3 | experimental factor                                | 0.00919489  |\n",
      "|  4 | bfo:continuant                                     | 0.0177263   |\n",
      "|  5 | bfo:independent_continuant                         | 0.0746248   |\n",
      "|  6 | material entity                                    | 0.0746315   |\n",
      "|  7 | biological entity                                  | 0.0849909   |\n",
      "|  8 | object                                             | 0.0883079   |\n",
      "|  9 | organismal entity                                  | 0.195561    |\n",
      "| 10 | obi:organism                                       | 0.245622    |\n",
      "| 11 | obo:ncbitaxon.owl                                  | 0.245625    |\n",
      "| 12 | cellular organisms or viruses                      | 0.251545    |\n",
      "| 13 | NCBI_taxonomy:131567                               | 0.324593    |\n",
      "| 14 | Archaea or Eukaryota                               | 0.488634    |\n",
      "| 15 | Eukaryota                                          | 0.492926    |\n",
      "| 16 | Unikonta                                           | 0.587405    |\n",
      "| 17 | Fungi/Metazoa group                                | 0.588515    |\n",
      "| 18 | Metazoa                                            | 0.646965    |\n",
      "| 19 | Eumetazoa                                          | 0.648912    |\n",
      "| 20 | Bilateria                                          | 0.653592    |\n",
      "| 21 | NCBI_taxonomy:33317                                | 0.692322    |\n",
      "| 22 | Ecdysozoa                                          | 0.719883    |\n",
      "| 23 | NCBI_taxonomy:88770                                | 0.725917    |\n",
      "| 24 | Arthropoda                                         | 0.726498    |\n",
      "| 25 | Mandibulata                                        | 0.750439    |\n",
      "| 26 | NCBI_taxonomy:197562                               | 0.751784    |\n",
      "| 27 | Viridiplantae or Bacteria or Euglenozoa or Archaea | 0.753173    |\n",
      "| 28 | Viridiplantae or Archaea or Bacteria               | 0.753855    |\n",
      "| 29 | Viridiplantae or Bacteria or Euglenozoa            | 0.757466    |\n",
      "| 30 | Viridiplantae or Bacteria                          | 0.758148    |\n",
      "| 31 | Hexapoda                                           | 0.765403    |\n",
      "| 32 | Insecta                                            | 0.770933    |\n",
      "| 33 | Dicondylia                                         | 0.77101     |\n",
      "| 34 | NCBI_taxonomy:7496                                 | 0.771104    |\n",
      "| 35 | Fungi or Bacteria or Archaea                       | 0.773595    |\n",
      "| 36 | NCBI_taxonomy:33340                                | 0.773914    |\n",
      "| 37 | Fungi or Bacteria                                  | 0.777888    |\n",
      "| 38 | Endopterygota                                      | 0.797693    |\n"
     ]
    }
   ],
   "source": [
    "\n",
    "df = DataFrame(graph.run(\"\"\"\n",
    "MATCH (n:GraphNode) WHERE n.ic < 0.8\n",
    "RETURN n.`grebi:name`[0] AS name, n.ic AS ic\n",
    "\"\"\").data())\n",
    "\n",
    "print(df.to_markdown())"
   ]
  },
  {
   "cell_type": "code",
   "execution_count": 18,
   "metadata": {},
   "outputs": [
    {
     "ename": "TransientError",
     "evalue": "[General.MemoryPoolOutOfMemoryError] The allocation of an extra 2.0 MiB would use more than the limit 13.7 GiB. Currently using 13.7 GiB. dbms.memory.transaction.total.max threshold reached",
     "output_type": "error",
     "traceback": [
      "\u001b[0;31m---------------------------------------------------------------------------\u001b[0m",
      "\u001b[0;31mTransientError\u001b[0m                            Traceback (most recent call last)",
      "Cell \u001b[0;32mIn[18], line 1\u001b[0m\n\u001b[0;32m----> 1\u001b[0m df \u001b[38;5;241m=\u001b[39m DataFrame(\u001b[43mgraph\u001b[49m\u001b[38;5;241;43m.\u001b[39;49m\u001b[43mrun\u001b[49m\u001b[43m(\u001b[49m\u001b[38;5;124;43m\"\"\"\u001b[39;49m\n\u001b[1;32m      2\u001b[0m \u001b[38;5;124;43mMATCH (n:GraphNode)-[r]-() WHERE n.ic < 0.8\u001b[39;49m\n\u001b[1;32m      3\u001b[0m \u001b[38;5;124;43mCALL \u001b[39;49m\u001b[38;5;124;43m{\u001b[39;49m\n\u001b[1;32m      4\u001b[0m \u001b[38;5;124;43mWITH r\u001b[39;49m\n\u001b[1;32m      5\u001b[0m \u001b[38;5;124;43mDELETE r\u001b[39;49m\n\u001b[1;32m      6\u001b[0m \u001b[38;5;124;43m} IN TRANSACTIONS OF 1 ROWS\u001b[39;49m\n\u001b[1;32m      7\u001b[0m \u001b[38;5;124;43mWITH DISTINCT n\u001b[39;49m\n\u001b[1;32m      8\u001b[0m \u001b[38;5;124;43mCALL \u001b[39;49m\u001b[38;5;124;43m{\u001b[39;49m\n\u001b[1;32m      9\u001b[0m \u001b[38;5;124;43mWITH n\u001b[39;49m\n\u001b[1;32m     10\u001b[0m \u001b[38;5;124;43mDELETE n\u001b[39;49m\n\u001b[1;32m     11\u001b[0m \u001b[38;5;124;43m} IN TRANSACTIONS OF 1 ROWS\u001b[39;49m\n\u001b[1;32m     12\u001b[0m \u001b[38;5;124;43m\"\"\"\u001b[39;49m\u001b[43m)\u001b[49m\u001b[38;5;241m.\u001b[39mdata())\n\u001b[1;32m     14\u001b[0m \u001b[38;5;28mprint\u001b[39m(df\u001b[38;5;241m.\u001b[39mto_markdown())\n",
      "File \u001b[0;32m~/grebi/.venv/lib/python3.12/site-packages/py2neo/database.py:405\u001b[0m, in \u001b[0;36mGraph.run\u001b[0;34m(self, cypher, parameters, **kwparameters)\u001b[0m\n\u001b[1;32m    395\u001b[0m \u001b[38;5;28;01mdef\u001b[39;00m \u001b[38;5;21mrun\u001b[39m(\u001b[38;5;28mself\u001b[39m, cypher, parameters\u001b[38;5;241m=\u001b[39m\u001b[38;5;28;01mNone\u001b[39;00m, \u001b[38;5;241m*\u001b[39m\u001b[38;5;241m*\u001b[39mkwparameters):\n\u001b[1;32m    396\u001b[0m \u001b[38;5;250m    \u001b[39m\u001b[38;5;124;03m\"\"\" Run a single read/write query within an auto-commit\u001b[39;00m\n\u001b[1;32m    397\u001b[0m \u001b[38;5;124;03m    :class:`~py2neo.Transaction`.\u001b[39;00m\n\u001b[1;32m    398\u001b[0m \n\u001b[0;32m   (...)\u001b[0m\n\u001b[1;32m    403\u001b[0m \u001b[38;5;124;03m    :return:\u001b[39;00m\n\u001b[1;32m    404\u001b[0m \u001b[38;5;124;03m    \"\"\"\u001b[39;00m\n\u001b[0;32m--> 405\u001b[0m     \u001b[38;5;28;01mreturn\u001b[39;00m \u001b[38;5;28;43mself\u001b[39;49m\u001b[38;5;241;43m.\u001b[39;49m\u001b[43mauto\u001b[49m\u001b[43m(\u001b[49m\u001b[43m)\u001b[49m\u001b[38;5;241;43m.\u001b[39;49m\u001b[43mrun\u001b[49m\u001b[43m(\u001b[49m\u001b[43mcypher\u001b[49m\u001b[43m,\u001b[49m\u001b[43m \u001b[49m\u001b[43mparameters\u001b[49m\u001b[43m,\u001b[49m\u001b[43m \u001b[49m\u001b[38;5;241;43m*\u001b[39;49m\u001b[38;5;241;43m*\u001b[39;49m\u001b[43mkwparameters\u001b[49m\u001b[43m)\u001b[49m\n",
      "File \u001b[0;32m~/grebi/.venv/lib/python3.12/site-packages/py2neo/database.py:992\u001b[0m, in \u001b[0;36mTransaction.run\u001b[0;34m(self, cypher, parameters, **kwparameters)\u001b[0m\n\u001b[1;32m    988\u001b[0m     \u001b[38;5;28;01melse\u001b[39;00m:\n\u001b[1;32m    989\u001b[0m         result \u001b[38;5;241m=\u001b[39m \u001b[38;5;28mself\u001b[39m\u001b[38;5;241m.\u001b[39m_connector\u001b[38;5;241m.\u001b[39mauto_run(cypher, parameters,\n\u001b[1;32m    990\u001b[0m                                           graph_name\u001b[38;5;241m=\u001b[39m\u001b[38;5;28mself\u001b[39m\u001b[38;5;241m.\u001b[39mgraph\u001b[38;5;241m.\u001b[39mname,\n\u001b[1;32m    991\u001b[0m                                           readonly\u001b[38;5;241m=\u001b[39m\u001b[38;5;28mself\u001b[39m\u001b[38;5;241m.\u001b[39mreadonly)\n\u001b[0;32m--> 992\u001b[0m     \u001b[38;5;28;43mself\u001b[39;49m\u001b[38;5;241;43m.\u001b[39;49m\u001b[43m_connector\u001b[49m\u001b[38;5;241;43m.\u001b[39;49m\u001b[43mpull\u001b[49m\u001b[43m(\u001b[49m\u001b[43mresult\u001b[49m\u001b[43m,\u001b[49m\u001b[43m \u001b[49m\u001b[38;5;241;43m-\u001b[39;49m\u001b[38;5;241;43m1\u001b[39;49m\u001b[43m)\u001b[49m\n\u001b[1;32m    993\u001b[0m     \u001b[38;5;28;01mreturn\u001b[39;00m Cursor(result, hydrant)\n\u001b[1;32m    994\u001b[0m \u001b[38;5;28;01mfinally\u001b[39;00m:\n",
      "File \u001b[0;32m~/grebi/.venv/lib/python3.12/site-packages/py2neo/client/__init__.py:1434\u001b[0m, in \u001b[0;36mConnector.pull\u001b[0;34m(self, result, n)\u001b[0m\n\u001b[1;32m   1432\u001b[0m cx \u001b[38;5;241m=\u001b[39m \u001b[38;5;28mself\u001b[39m\u001b[38;5;241m.\u001b[39m_reacquire(result\u001b[38;5;241m.\u001b[39mtransaction)\n\u001b[1;32m   1433\u001b[0m \u001b[38;5;28;01mtry\u001b[39;00m:\n\u001b[0;32m-> 1434\u001b[0m     \u001b[43mcx\u001b[49m\u001b[38;5;241;43m.\u001b[39;49m\u001b[43mpull\u001b[49m\u001b[43m(\u001b[49m\u001b[43mresult\u001b[49m\u001b[43m,\u001b[49m\u001b[43m \u001b[49m\u001b[43mn\u001b[49m\u001b[38;5;241;43m=\u001b[39;49m\u001b[43mn\u001b[49m\u001b[43m)\u001b[49m\n\u001b[1;32m   1435\u001b[0m \u001b[38;5;28;01mexcept\u001b[39;00m (ConnectionUnavailable, ConnectionBroken):\n\u001b[1;32m   1436\u001b[0m     \u001b[38;5;28mself\u001b[39m\u001b[38;5;241m.\u001b[39mprune(cx\u001b[38;5;241m.\u001b[39mprofile)\n",
      "File \u001b[0;32m~/grebi/.venv/lib/python3.12/site-packages/py2neo/client/bolt.py:1001\u001b[0m, in \u001b[0;36mBolt4x0.pull\u001b[0;34m(self, result, n, capacity)\u001b[0m\n\u001b[1;32m    998\u001b[0m     raise_from(ConnectionBroken(\u001b[38;5;124m\"\u001b[39m\u001b[38;5;124mTransaction broken by disconnection \u001b[39m\u001b[38;5;124m\"\u001b[39m\n\u001b[1;32m    999\u001b[0m                                 \u001b[38;5;124m\"\u001b[39m\u001b[38;5;124mduring pull\u001b[39m\u001b[38;5;124m\"\u001b[39m), error)\n\u001b[1;32m   1000\u001b[0m \u001b[38;5;28;01melse\u001b[39;00m:\n\u001b[0;32m-> 1001\u001b[0m     \u001b[38;5;28;43mself\u001b[39;49m\u001b[38;5;241;43m.\u001b[39;49m\u001b[43m_audit\u001b[49m\u001b[43m(\u001b[49m\u001b[38;5;28;43mself\u001b[39;49m\u001b[38;5;241;43m.\u001b[39;49m\u001b[43m_transaction\u001b[49m\u001b[43m)\u001b[49m\n\u001b[1;32m   1002\u001b[0m     \u001b[38;5;28;01mreturn\u001b[39;00m response\n",
      "File \u001b[0;32m~/grebi/.venv/lib/python3.12/site-packages/py2neo/client/bolt.py:810\u001b[0m, in \u001b[0;36mBolt1._audit\u001b[0;34m(self, task)\u001b[0m\n\u001b[1;32m    808\u001b[0m     \u001b[38;5;28;01mreturn\u001b[39;00m\n\u001b[1;32m    809\u001b[0m \u001b[38;5;28;01mtry\u001b[39;00m:\n\u001b[0;32m--> 810\u001b[0m     \u001b[43mtask\u001b[49m\u001b[38;5;241;43m.\u001b[39;49m\u001b[43maudit\u001b[49m\u001b[43m(\u001b[49m\u001b[43m)\u001b[49m\n\u001b[1;32m    811\u001b[0m \u001b[38;5;28;01mexcept\u001b[39;00m Neo4jError:\n\u001b[1;32m    812\u001b[0m     \u001b[38;5;28mself\u001b[39m\u001b[38;5;241m.\u001b[39mreset(force\u001b[38;5;241m=\u001b[39m\u001b[38;5;28;01mTrue\u001b[39;00m)\n",
      "File \u001b[0;32m~/grebi/.venv/lib/python3.12/site-packages/py2neo/client/bolt.py:1140\u001b[0m, in \u001b[0;36mItemizedTask.audit\u001b[0;34m(self)\u001b[0m\n\u001b[1;32m   1138\u001b[0m \u001b[38;5;28;01mdef\u001b[39;00m \u001b[38;5;21maudit\u001b[39m(\u001b[38;5;28mself\u001b[39m):\n\u001b[1;32m   1139\u001b[0m     \u001b[38;5;28;01mfor\u001b[39;00m item \u001b[38;5;129;01min\u001b[39;00m \u001b[38;5;28mself\u001b[39m\u001b[38;5;241m.\u001b[39m_items:\n\u001b[0;32m-> 1140\u001b[0m         \u001b[43mitem\u001b[49m\u001b[38;5;241;43m.\u001b[39;49m\u001b[43maudit\u001b[49m\u001b[43m(\u001b[49m\u001b[43m)\u001b[49m\n",
      "File \u001b[0;32m~/grebi/.venv/lib/python3.12/site-packages/py2neo/client/bolt.py:1140\u001b[0m, in \u001b[0;36mItemizedTask.audit\u001b[0;34m(self)\u001b[0m\n\u001b[1;32m   1138\u001b[0m \u001b[38;5;28;01mdef\u001b[39;00m \u001b[38;5;21maudit\u001b[39m(\u001b[38;5;28mself\u001b[39m):\n\u001b[1;32m   1139\u001b[0m     \u001b[38;5;28;01mfor\u001b[39;00m item \u001b[38;5;129;01min\u001b[39;00m \u001b[38;5;28mself\u001b[39m\u001b[38;5;241m.\u001b[39m_items:\n\u001b[0;32m-> 1140\u001b[0m         \u001b[43mitem\u001b[49m\u001b[38;5;241;43m.\u001b[39;49m\u001b[43maudit\u001b[49m\u001b[43m(\u001b[49m\u001b[43m)\u001b[49m\n",
      "File \u001b[0;32m~/grebi/.venv/lib/python3.12/site-packages/py2neo/client/bolt.py:1303\u001b[0m, in \u001b[0;36mBoltResponse.audit\u001b[0;34m(self)\u001b[0m\n\u001b[1;32m   1301\u001b[0m \u001b[38;5;28;01mif\u001b[39;00m \u001b[38;5;28mself\u001b[39m\u001b[38;5;241m.\u001b[39m_failure:\n\u001b[1;32m   1302\u001b[0m     \u001b[38;5;28mself\u001b[39m\u001b[38;5;241m.\u001b[39mset_ignored()\n\u001b[0;32m-> 1303\u001b[0m     \u001b[38;5;28;01mraise\u001b[39;00m \u001b[38;5;28mself\u001b[39m\u001b[38;5;241m.\u001b[39m_failure\n",
      "\u001b[0;31mTransientError\u001b[0m: [General.MemoryPoolOutOfMemoryError] The allocation of an extra 2.0 MiB would use more than the limit 13.7 GiB. Currently using 13.7 GiB. dbms.memory.transaction.total.max threshold reached"
     ]
    }
   ],
   "source": [
    "\n",
    "df = DataFrame(graph.run(\"\"\"\n",
    "MATCH (n:GraphNode)-[r]-() WHERE n.ic < 0.8\n",
    "CALL {\n",
    "WITH r\n",
    "DELETE r\n",
    "} IN TRANSACTIONS OF 1 ROWS\n",
    "WITH DISTINCT n\n",
    "CALL {\n",
    "WITH n\n",
    "DELETE n\n",
    "} IN TRANSACTIONS OF 1 ROWS\n",
    "\"\"\").data())\n",
    "\n",
    "print(df.to_markdown())\n"
   ]
  }
 ],
 "metadata": {
  "kernelspec": {
   "display_name": ".venv",
   "language": "python",
   "name": "python3"
  },
  "language_info": {
   "codemirror_mode": {
    "name": "ipython",
    "version": 3
   },
   "file_extension": ".py",
   "mimetype": "text/x-python",
   "name": "python",
   "nbconvert_exporter": "python",
   "pygments_lexer": "ipython3",
   "version": "3.12.3"
  }
 },
 "nbformat": 4,
 "nbformat_minor": 2
}
