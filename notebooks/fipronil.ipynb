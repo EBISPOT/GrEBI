{
 "cells": [
  {
   "cell_type": "code",
   "execution_count": 2,
   "metadata": {},
   "outputs": [],
   "source": [
    "import sys, os, io, json\n",
    "from neo4j import GraphDatabase\n",
    "from py2neo import Graph\n",
    "from pathlib import Path\n",
    "from pandas import DataFrame\n",
    "import pandas as pd\n",
    "import networkx as nx\n",
    "\n",
    "graph = Graph(\"bolt://localhost:7687\")\n",
    "driver = GraphDatabase.driver('bolt://localhost:7687', auth=None)\n",
    "\n"
   ]
  },
  {
   "cell_type": "markdown",
   "metadata": {},
   "source": [
    "## Get the neighbourhood of Fipronil as GraphML"
   ]
  },
  {
   "cell_type": "code",
   "execution_count": 27,
   "metadata": {},
   "outputs": [],
   "source": [
    "df = DataFrame(graph.run(\"\"\"\n",
    "WITH $query AS query\n",
    "CALL apoc.export.graphml.query(query, null, {stream:true, useTypes:true, storeNodeIds:true, readLabels:true})\n",
    "YIELD file, source, format, nodes, relationships, properties, time, rows, batchSize, batches, done, data\n",
    "RETURN data;\n",
    "\"\"\", {'query': \"\"\"\n",
    "MATCH (other)-[r]-(fipronil:GraphNode)-[:id]->(id:Id { id: \\\"chebi:5063\\\" })\n",
    "RETURN *\n",
    "\"\"\"}).data())\n",
    "\n",
    "with open('fipronil.graphml', 'w') as f:\n",
    "    f.write(df['data'][0])\n",
    "\n"
   ]
  },
  {
   "cell_type": "markdown",
   "metadata": {},
   "source": [
    "## Loading into networkx and writing Cytoscape JSON"
   ]
  },
  {
   "cell_type": "code",
   "execution_count": 14,
   "metadata": {},
   "outputs": [],
   "source": [
    "\n",
    "## Helper function to run a Cypher query over a GrEBI graph and return a NetworkX graph from the results\n",
    "##\n",
    "def query_to_nx(query):\n",
    "    results = driver.session().run(query)\n",
    "    G = nx.MultiDiGraph()\n",
    "    for node in list(results.graph()._nodes.values()):\n",
    "        if not 'Id' in node._labels:\n",
    "            G.add_nodes_from([(node._properties['grebi:nodeId'], dict({\"grebi:type\": list(node._labels)}, **node._properties))])\n",
    "    for rel in list(results.graph()._relationships.values()):\n",
    "        if not 'Id' in rel.start_node._labels and not 'Id' in rel.end_node._labels:\n",
    "            G.add_edges_from([(rel.start_node._properties['grebi:nodeId'], rel.end_node._properties['grebi:nodeId'], rel._properties['edge_id'], dict({\"grebi:type\": rel.type}, **rel._properties))])\n",
    "    return G\n",
    "\n",
    "def nx_to_cytoscape(G):\n",
    "    cydata = nx.cytoscape_data(G)\n",
    "    for node in cydata['elements']['nodes']:\n",
    "        node['data']['ids'] = node['data']['id']\n",
    "        node['data']['id'] = node['data']['grebi:nodeId']\n",
    "        del node['data']['grebi:nodeId']\n",
    "    return cydata\n"
   ]
  },
  {
   "cell_type": "markdown",
   "metadata": {},
   "source": [
    "## Extracting subgraphs"
   ]
  },
  {
   "cell_type": "code",
   "execution_count": 17,
   "metadata": {},
   "outputs": [
    {
     "ename": "KeyboardInterrupt",
     "evalue": "",
     "output_type": "error",
     "traceback": [
      "\u001b[0;31m---------------------------------------------------------------------------\u001b[0m",
      "\u001b[0;31mKeyboardInterrupt\u001b[0m                         Traceback (most recent call last)",
      "Cell \u001b[0;32mIn[17], line 1\u001b[0m\n\u001b[0;32m----> 1\u001b[0m G \u001b[38;5;241m=\u001b[39m \u001b[43mquery_to_nx\u001b[49m\u001b[43m(\u001b[49m\u001b[38;5;124;43m\"\"\"\u001b[39;49m\n\u001b[1;32m      2\u001b[0m \u001b[38;5;124;43mMATCH (fipronil:GraphNode)-[:id]->(id:Id \u001b[39;49m\u001b[38;5;124;43m{\u001b[39;49m\u001b[38;5;124;43m id: \u001b[39;49m\u001b[38;5;130;43;01m\\\"\u001b[39;49;00m\u001b[38;5;124;43mchebi:5063\u001b[39;49m\u001b[38;5;130;43;01m\\\"\u001b[39;49;00m\u001b[38;5;124;43m })\u001b[39;49m\n\u001b[1;32m      3\u001b[0m \u001b[38;5;124;43mCALL apoc.path.subgraphAll(fipronil, \u001b[39;49m\u001b[38;5;132;43;01m{maxLevel:2}\u001b[39;49;00m\u001b[38;5;124;43m)\u001b[39;49m\n\u001b[1;32m      4\u001b[0m \u001b[38;5;124;43mYIELD nodes, relationships\u001b[39;49m\n\u001b[1;32m      5\u001b[0m \u001b[38;5;124;43mRETURN *\u001b[39;49m\n\u001b[1;32m      6\u001b[0m \u001b[38;5;124;43m\"\"\"\u001b[39;49m\u001b[43m)\u001b[49m\n\u001b[1;32m      8\u001b[0m \u001b[38;5;28;01mwith\u001b[39;00m \u001b[38;5;28mopen\u001b[39m(\u001b[38;5;124m'\u001b[39m\u001b[38;5;124mfipronil_subgraph_2.cyjs.json\u001b[39m\u001b[38;5;124m'\u001b[39m, \u001b[38;5;124m'\u001b[39m\u001b[38;5;124mw\u001b[39m\u001b[38;5;124m'\u001b[39m) \u001b[38;5;28;01mas\u001b[39;00m f:\n\u001b[1;32m      9\u001b[0m     json\u001b[38;5;241m.\u001b[39mdump(nx_to_cytoscape(G), f, indent\u001b[38;5;241m=\u001b[39m\u001b[38;5;241m2\u001b[39m)\n",
      "Cell \u001b[0;32mIn[14], line 6\u001b[0m, in \u001b[0;36mquery_to_nx\u001b[0;34m(query)\u001b[0m\n\u001b[1;32m      4\u001b[0m results \u001b[38;5;241m=\u001b[39m driver\u001b[38;5;241m.\u001b[39msession()\u001b[38;5;241m.\u001b[39mrun(query)\n\u001b[1;32m      5\u001b[0m G \u001b[38;5;241m=\u001b[39m nx\u001b[38;5;241m.\u001b[39mMultiDiGraph()\n\u001b[0;32m----> 6\u001b[0m \u001b[38;5;28;01mfor\u001b[39;00m node \u001b[38;5;129;01min\u001b[39;00m \u001b[38;5;28mlist\u001b[39m(\u001b[43mresults\u001b[49m\u001b[38;5;241;43m.\u001b[39;49m\u001b[43mgraph\u001b[49m\u001b[43m(\u001b[49m\u001b[43m)\u001b[49m\u001b[38;5;241m.\u001b[39m_nodes\u001b[38;5;241m.\u001b[39mvalues()):\n\u001b[1;32m      7\u001b[0m     \u001b[38;5;28;01mif\u001b[39;00m \u001b[38;5;129;01mnot\u001b[39;00m \u001b[38;5;124m'\u001b[39m\u001b[38;5;124mId\u001b[39m\u001b[38;5;124m'\u001b[39m \u001b[38;5;129;01min\u001b[39;00m node\u001b[38;5;241m.\u001b[39m_labels:\n\u001b[1;32m      8\u001b[0m         G\u001b[38;5;241m.\u001b[39madd_nodes_from([(node\u001b[38;5;241m.\u001b[39m_properties[\u001b[38;5;124m'\u001b[39m\u001b[38;5;124mgrebi:nodeId\u001b[39m\u001b[38;5;124m'\u001b[39m], \u001b[38;5;28mdict\u001b[39m({\u001b[38;5;124m\"\u001b[39m\u001b[38;5;124mgrebi:type\u001b[39m\u001b[38;5;124m\"\u001b[39m: \u001b[38;5;28mlist\u001b[39m(node\u001b[38;5;241m.\u001b[39m_labels)}, \u001b[38;5;241m*\u001b[39m\u001b[38;5;241m*\u001b[39mnode\u001b[38;5;241m.\u001b[39m_properties))])\n",
      "File \u001b[0;32m~/grebi/notebooks/.venv/lib/python3.12/site-packages/neo4j/_sync/work/result.py:701\u001b[0m, in \u001b[0;36mResult.graph\u001b[0;34m(self)\u001b[0m\n\u001b[1;32m    680\u001b[0m \u001b[38;5;129m@NonConcurrentMethodChecker\u001b[39m\u001b[38;5;241m.\u001b[39mnon_concurrent_method\n\u001b[1;32m    681\u001b[0m \u001b[38;5;28;01mdef\u001b[39;00m \u001b[38;5;21mgraph\u001b[39m(\u001b[38;5;28mself\u001b[39m) \u001b[38;5;241m-\u001b[39m\u001b[38;5;241m>\u001b[39m Graph:\n\u001b[1;32m    682\u001b[0m \u001b[38;5;250m    \u001b[39m\u001b[38;5;124;03m\"\"\"\u001b[39;00m\n\u001b[1;32m    683\u001b[0m \u001b[38;5;124;03m    Turn the result into a :class:`.Graph`.\u001b[39;00m\n\u001b[1;32m    684\u001b[0m \n\u001b[0;32m   (...)\u001b[0m\n\u001b[1;32m    699\u001b[0m \u001b[38;5;124;03m        Can raise :exc:`.ResultConsumedError`.\u001b[39;00m\n\u001b[1;32m    700\u001b[0m \u001b[38;5;124;03m    \"\"\"\u001b[39;00m\n\u001b[0;32m--> 701\u001b[0m     \u001b[38;5;28;43mself\u001b[39;49m\u001b[38;5;241;43m.\u001b[39;49m\u001b[43m_buffer_all\u001b[49m\u001b[43m(\u001b[49m\u001b[43m)\u001b[49m\n\u001b[1;32m    702\u001b[0m     \u001b[38;5;28;01mreturn\u001b[39;00m \u001b[38;5;28mself\u001b[39m\u001b[38;5;241m.\u001b[39m_hydration_scope\u001b[38;5;241m.\u001b[39mget_graph()\n",
      "File \u001b[0;32m~/grebi/notebooks/.venv/lib/python3.12/site-packages/neo4j/_sync/work/result.py:454\u001b[0m, in \u001b[0;36mResult._buffer_all\u001b[0;34m(self)\u001b[0m\n\u001b[1;32m    453\u001b[0m \u001b[38;5;28;01mdef\u001b[39;00m \u001b[38;5;21m_buffer_all\u001b[39m(\u001b[38;5;28mself\u001b[39m):\n\u001b[0;32m--> 454\u001b[0m     \u001b[38;5;28;43mself\u001b[39;49m\u001b[38;5;241;43m.\u001b[39;49m\u001b[43m_buffer\u001b[49m\u001b[43m(\u001b[49m\u001b[43m)\u001b[49m\n",
      "File \u001b[0;32m~/grebi/notebooks/.venv/lib/python3.12/site-packages/neo4j/_sync/work/result.py:443\u001b[0m, in \u001b[0;36mResult._buffer\u001b[0;34m(self, n)\u001b[0m\n\u001b[1;32m    441\u001b[0m     \u001b[38;5;28;01mreturn\u001b[39;00m\n\u001b[1;32m    442\u001b[0m record_buffer \u001b[38;5;241m=\u001b[39m deque()\n\u001b[0;32m--> 443\u001b[0m \u001b[43m\u001b[49m\u001b[38;5;28;43;01mfor\u001b[39;49;00m\u001b[43m \u001b[49m\u001b[43mrecord\u001b[49m\u001b[43m \u001b[49m\u001b[38;5;129;43;01min\u001b[39;49;00m\u001b[43m \u001b[49m\u001b[38;5;28;43mself\u001b[39;49m\u001b[43m:\u001b[49m\n\u001b[1;32m    444\u001b[0m \u001b[43m    \u001b[49m\u001b[43mrecord_buffer\u001b[49m\u001b[38;5;241;43m.\u001b[39;49m\u001b[43mappend\u001b[49m\u001b[43m(\u001b[49m\u001b[43mrecord\u001b[49m\u001b[43m)\u001b[49m\n\u001b[1;32m    445\u001b[0m \u001b[43m    \u001b[49m\u001b[38;5;28;43;01mif\u001b[39;49;00m\u001b[43m \u001b[49m\u001b[43mn\u001b[49m\u001b[43m \u001b[49m\u001b[38;5;129;43;01mis\u001b[39;49;00m\u001b[43m \u001b[49m\u001b[38;5;129;43;01mnot\u001b[39;49;00m\u001b[43m \u001b[49m\u001b[38;5;28;43;01mNone\u001b[39;49;00m\u001b[43m \u001b[49m\u001b[38;5;129;43;01mand\u001b[39;49;00m\u001b[43m \u001b[49m\u001b[38;5;28;43mlen\u001b[39;49m\u001b[43m(\u001b[49m\u001b[43mrecord_buffer\u001b[49m\u001b[43m)\u001b[49m\u001b[43m \u001b[49m\u001b[38;5;241;43m>\u001b[39;49m\u001b[38;5;241;43m=\u001b[39;49m\u001b[43m \u001b[49m\u001b[43mn\u001b[49m\u001b[43m:\u001b[49m\n",
      "File \u001b[0;32m~/grebi/notebooks/.venv/lib/python3.12/site-packages/neo4j/_sync/work/result.py:393\u001b[0m, in \u001b[0;36mResult.__iter__\u001b[0;34m(self)\u001b[0m\n\u001b[1;32m    391\u001b[0m     \u001b[38;5;28;01myield\u001b[39;00m \u001b[38;5;28mself\u001b[39m\u001b[38;5;241m.\u001b[39m_record_buffer\u001b[38;5;241m.\u001b[39mpopleft()\n\u001b[1;32m    392\u001b[0m \u001b[38;5;28;01melif\u001b[39;00m \u001b[38;5;28mself\u001b[39m\u001b[38;5;241m.\u001b[39m_streaming:\n\u001b[0;32m--> 393\u001b[0m     \u001b[38;5;28;43mself\u001b[39;49m\u001b[38;5;241;43m.\u001b[39;49m\u001b[43m_connection\u001b[49m\u001b[38;5;241;43m.\u001b[39;49m\u001b[43mfetch_message\u001b[49m\u001b[43m(\u001b[49m\u001b[43m)\u001b[49m\n\u001b[1;32m    394\u001b[0m \u001b[38;5;28;01melif\u001b[39;00m \u001b[38;5;28mself\u001b[39m\u001b[38;5;241m.\u001b[39m_discarding:\n\u001b[1;32m    395\u001b[0m     \u001b[38;5;28mself\u001b[39m\u001b[38;5;241m.\u001b[39m_discard()\n",
      "File \u001b[0;32m~/grebi/notebooks/.venv/lib/python3.12/site-packages/neo4j/_sync/io/_common.py:181\u001b[0m, in \u001b[0;36mConnectionErrorHandler.__getattr__.<locals>.outer.<locals>.inner\u001b[0;34m(*args, **kwargs)\u001b[0m\n\u001b[1;32m    179\u001b[0m \u001b[38;5;28;01mdef\u001b[39;00m \u001b[38;5;21minner\u001b[39m(\u001b[38;5;241m*\u001b[39margs, \u001b[38;5;241m*\u001b[39m\u001b[38;5;241m*\u001b[39mkwargs):\n\u001b[1;32m    180\u001b[0m     \u001b[38;5;28;01mtry\u001b[39;00m:\n\u001b[0;32m--> 181\u001b[0m         \u001b[43mfunc\u001b[49m\u001b[43m(\u001b[49m\u001b[38;5;241;43m*\u001b[39;49m\u001b[43margs\u001b[49m\u001b[43m,\u001b[49m\u001b[43m \u001b[49m\u001b[38;5;241;43m*\u001b[39;49m\u001b[38;5;241;43m*\u001b[39;49m\u001b[43mkwargs\u001b[49m\u001b[43m)\u001b[49m\n\u001b[1;32m    182\u001b[0m     \u001b[38;5;28;01mexcept\u001b[39;00m (Neo4jError, ServiceUnavailable, SessionExpired) \u001b[38;5;28;01mas\u001b[39;00m exc:\n\u001b[1;32m    183\u001b[0m         \u001b[38;5;28;01massert\u001b[39;00m \u001b[38;5;129;01mnot\u001b[39;00m asyncio\u001b[38;5;241m.\u001b[39miscoroutinefunction(\u001b[38;5;28mself\u001b[39m\u001b[38;5;241m.\u001b[39m__on_error)\n",
      "File \u001b[0;32m~/grebi/notebooks/.venv/lib/python3.12/site-packages/neo4j/_sync/io/_bolt.py:974\u001b[0m, in \u001b[0;36mBolt.fetch_message\u001b[0;34m(self)\u001b[0m\n\u001b[1;32m    971\u001b[0m     \u001b[38;5;28;01mreturn\u001b[39;00m \u001b[38;5;241m0\u001b[39m, \u001b[38;5;241m0\u001b[39m\n\u001b[1;32m    973\u001b[0m \u001b[38;5;66;03m# Receive exactly one message\u001b[39;00m\n\u001b[0;32m--> 974\u001b[0m tag, fields \u001b[38;5;241m=\u001b[39m \u001b[38;5;28;43mself\u001b[39;49m\u001b[38;5;241;43m.\u001b[39;49m\u001b[43minbox\u001b[49m\u001b[38;5;241;43m.\u001b[39;49m\u001b[43mpop\u001b[49m\u001b[43m(\u001b[49m\n\u001b[1;32m    975\u001b[0m \u001b[43m    \u001b[49m\u001b[43mhydration_hooks\u001b[49m\u001b[38;5;241;43m=\u001b[39;49m\u001b[38;5;28;43mself\u001b[39;49m\u001b[38;5;241;43m.\u001b[39;49m\u001b[43mresponses\u001b[49m\u001b[43m[\u001b[49m\u001b[38;5;241;43m0\u001b[39;49m\u001b[43m]\u001b[49m\u001b[38;5;241;43m.\u001b[39;49m\u001b[43mhydration_hooks\u001b[49m\n\u001b[1;32m    976\u001b[0m \u001b[43m\u001b[49m\u001b[43m)\u001b[49m\n\u001b[1;32m    977\u001b[0m res \u001b[38;5;241m=\u001b[39m \u001b[38;5;28mself\u001b[39m\u001b[38;5;241m.\u001b[39m_process_message(tag, fields)\n\u001b[1;32m    978\u001b[0m \u001b[38;5;28mself\u001b[39m\u001b[38;5;241m.\u001b[39midle_since \u001b[38;5;241m=\u001b[39m monotonic()\n",
      "File \u001b[0;32m~/grebi/notebooks/.venv/lib/python3.12/site-packages/neo4j/_sync/io/_common.py:74\u001b[0m, in \u001b[0;36mInbox.pop\u001b[0;34m(self, hydration_hooks)\u001b[0m\n\u001b[1;32m     73\u001b[0m \u001b[38;5;28;01mdef\u001b[39;00m \u001b[38;5;21mpop\u001b[39m(\u001b[38;5;28mself\u001b[39m, hydration_hooks):\n\u001b[0;32m---> 74\u001b[0m     \u001b[38;5;28;43mself\u001b[39;49m\u001b[38;5;241;43m.\u001b[39;49m\u001b[43m_buffer_one_chunk\u001b[49m\u001b[43m(\u001b[49m\u001b[43m)\u001b[49m\n\u001b[1;32m     75\u001b[0m     \u001b[38;5;28;01mtry\u001b[39;00m:\n\u001b[1;32m     76\u001b[0m         size, tag \u001b[38;5;241m=\u001b[39m \u001b[38;5;28mself\u001b[39m\u001b[38;5;241m.\u001b[39m_unpacker\u001b[38;5;241m.\u001b[39munpack_structure_header()\n",
      "File \u001b[0;32m~/grebi/notebooks/.venv/lib/python3.12/site-packages/neo4j/_sync/io/_common.py:51\u001b[0m, in \u001b[0;36mInbox._buffer_one_chunk\u001b[0;34m(self)\u001b[0m\n\u001b[1;32m     48\u001b[0m \u001b[38;5;28;01mwhile\u001b[39;00m \u001b[38;5;28;01mTrue\u001b[39;00m:\n\u001b[1;32m     49\u001b[0m     \u001b[38;5;28;01mwhile\u001b[39;00m chunk_size \u001b[38;5;241m==\u001b[39m \u001b[38;5;241m0\u001b[39m:\n\u001b[1;32m     50\u001b[0m         \u001b[38;5;66;03m# Determine the chunk size and skip noop\u001b[39;00m\n\u001b[0;32m---> 51\u001b[0m         \u001b[43mreceive_into_buffer\u001b[49m\u001b[43m(\u001b[49m\u001b[38;5;28;43mself\u001b[39;49m\u001b[38;5;241;43m.\u001b[39;49m\u001b[43m_socket\u001b[49m\u001b[43m,\u001b[49m\u001b[43m \u001b[49m\u001b[38;5;28;43mself\u001b[39;49m\u001b[38;5;241;43m.\u001b[39;49m\u001b[43m_buffer\u001b[49m\u001b[43m,\u001b[49m\u001b[43m \u001b[49m\u001b[38;5;241;43m2\u001b[39;49m\u001b[43m)\u001b[49m\n\u001b[1;32m     52\u001b[0m         chunk_size \u001b[38;5;241m=\u001b[39m \u001b[38;5;28mself\u001b[39m\u001b[38;5;241m.\u001b[39m_buffer\u001b[38;5;241m.\u001b[39mpop_u16()\n\u001b[1;32m     53\u001b[0m         \u001b[38;5;28;01mif\u001b[39;00m chunk_size \u001b[38;5;241m==\u001b[39m \u001b[38;5;241m0\u001b[39m:\n",
      "File \u001b[0;32m~/grebi/notebooks/.venv/lib/python3.12/site-packages/neo4j/_sync/io/_common.py:336\u001b[0m, in \u001b[0;36mreceive_into_buffer\u001b[0;34m(sock, buffer, n_bytes)\u001b[0m\n\u001b[1;32m    334\u001b[0m \u001b[38;5;28;01mwith\u001b[39;00m \u001b[38;5;28mmemoryview\u001b[39m(buffer\u001b[38;5;241m.\u001b[39mdata) \u001b[38;5;28;01mas\u001b[39;00m view:\n\u001b[1;32m    335\u001b[0m     \u001b[38;5;28;01mwhile\u001b[39;00m buffer\u001b[38;5;241m.\u001b[39mused \u001b[38;5;241m<\u001b[39m end:\n\u001b[0;32m--> 336\u001b[0m         n \u001b[38;5;241m=\u001b[39m \u001b[43msock\u001b[49m\u001b[38;5;241;43m.\u001b[39;49m\u001b[43mrecv_into\u001b[49m\u001b[43m(\u001b[49m\n\u001b[1;32m    337\u001b[0m \u001b[43m            \u001b[49m\u001b[43mview\u001b[49m\u001b[43m[\u001b[49m\u001b[43mbuffer\u001b[49m\u001b[38;5;241;43m.\u001b[39;49m\u001b[43mused\u001b[49m\u001b[43m \u001b[49m\u001b[43m:\u001b[49m\u001b[43m \u001b[49m\u001b[43mend\u001b[49m\u001b[43m]\u001b[49m\u001b[43m,\u001b[49m\u001b[43m \u001b[49m\u001b[43mend\u001b[49m\u001b[43m \u001b[49m\u001b[38;5;241;43m-\u001b[39;49m\u001b[43m \u001b[49m\u001b[43mbuffer\u001b[49m\u001b[38;5;241;43m.\u001b[39;49m\u001b[43mused\u001b[49m\n\u001b[1;32m    338\u001b[0m \u001b[43m        \u001b[49m\u001b[43m)\u001b[49m\n\u001b[1;32m    339\u001b[0m         \u001b[38;5;28;01mif\u001b[39;00m n \u001b[38;5;241m==\u001b[39m \u001b[38;5;241m0\u001b[39m:\n\u001b[1;32m    340\u001b[0m             \u001b[38;5;28;01mraise\u001b[39;00m \u001b[38;5;167;01mOSError\u001b[39;00m(\u001b[38;5;124m\"\u001b[39m\u001b[38;5;124mNo data\u001b[39m\u001b[38;5;124m\"\u001b[39m)\n",
      "File \u001b[0;32m~/grebi/notebooks/.venv/lib/python3.12/site-packages/neo4j/_async_compat/network/_bolt_socket.py:521\u001b[0m, in \u001b[0;36mBoltSocket.recv_into\u001b[0;34m(self, buffer, nbytes)\u001b[0m\n\u001b[1;32m    520\u001b[0m \u001b[38;5;28;01mdef\u001b[39;00m \u001b[38;5;21mrecv_into\u001b[39m(\u001b[38;5;28mself\u001b[39m, buffer, nbytes):\n\u001b[0;32m--> 521\u001b[0m     \u001b[38;5;28;01mreturn\u001b[39;00m \u001b[38;5;28;43mself\u001b[39;49m\u001b[38;5;241;43m.\u001b[39;49m\u001b[43m_wait_for_io\u001b[49m\u001b[43m(\u001b[49m\u001b[38;5;28;43mself\u001b[39;49m\u001b[38;5;241;43m.\u001b[39;49m\u001b[43m_socket\u001b[49m\u001b[38;5;241;43m.\u001b[39;49m\u001b[43mrecv_into\u001b[49m\u001b[43m,\u001b[49m\u001b[43m \u001b[49m\u001b[43mbuffer\u001b[49m\u001b[43m,\u001b[49m\u001b[43m \u001b[49m\u001b[43mnbytes\u001b[49m\u001b[43m)\u001b[49m\n",
      "File \u001b[0;32m~/grebi/notebooks/.venv/lib/python3.12/site-packages/neo4j/_async_compat/network/_bolt_socket.py:496\u001b[0m, in \u001b[0;36mBoltSocket._wait_for_io\u001b[0;34m(self, func, *args, **kwargs)\u001b[0m\n\u001b[1;32m    494\u001b[0m \u001b[38;5;28;01mdef\u001b[39;00m \u001b[38;5;21m_wait_for_io\u001b[39m(\u001b[38;5;28mself\u001b[39m, func, \u001b[38;5;241m*\u001b[39margs, \u001b[38;5;241m*\u001b[39m\u001b[38;5;241m*\u001b[39mkwargs):\n\u001b[1;32m    495\u001b[0m     \u001b[38;5;28;01mif\u001b[39;00m \u001b[38;5;28mself\u001b[39m\u001b[38;5;241m.\u001b[39m_deadline \u001b[38;5;129;01mis\u001b[39;00m \u001b[38;5;28;01mNone\u001b[39;00m:\n\u001b[0;32m--> 496\u001b[0m         \u001b[38;5;28;01mreturn\u001b[39;00m \u001b[43mfunc\u001b[49m\u001b[43m(\u001b[49m\u001b[38;5;241;43m*\u001b[39;49m\u001b[43margs\u001b[49m\u001b[43m,\u001b[49m\u001b[43m \u001b[49m\u001b[38;5;241;43m*\u001b[39;49m\u001b[38;5;241;43m*\u001b[39;49m\u001b[43mkwargs\u001b[49m\u001b[43m)\u001b[49m\n\u001b[1;32m    497\u001b[0m     timeout \u001b[38;5;241m=\u001b[39m \u001b[38;5;28mself\u001b[39m\u001b[38;5;241m.\u001b[39m_socket\u001b[38;5;241m.\u001b[39mgettimeout()\n\u001b[1;32m    498\u001b[0m     deadline_timeout \u001b[38;5;241m=\u001b[39m \u001b[38;5;28mself\u001b[39m\u001b[38;5;241m.\u001b[39m_deadline\u001b[38;5;241m.\u001b[39mto_timeout()\n",
      "\u001b[0;31mKeyboardInterrupt\u001b[0m: "
     ]
    }
   ],
   "source": [
    "G = query_to_nx(\"\"\"\n",
    "MATCH (fipronil:GraphNode)-[:id]->(id:Id { id: \\\"chebi:5063\\\" })\n",
    "CALL apoc.path.subgraphAll(fipronil, {maxLevel:2})\n",
    "YIELD nodes, relationships\n",
    "RETURN *\n",
    "\"\"\")\n",
    "\n",
    "with open('fipronil_subgraph_2.cyjs.json', 'w') as f:\n",
    "    json.dump(nx_to_cytoscape(G), f, indent=2)\n",
    "\n"
   ]
  },
  {
   "cell_type": "markdown",
   "metadata": {},
   "source": [
    "## What are the chains of properties connected to fipronil with a distance of 1 or 2 edges?"
   ]
  },
  {
   "cell_type": "code",
   "execution_count": 23,
   "metadata": {},
   "outputs": [],
   "source": [
    "df = DataFrame(graph.run(\"\"\"\n",
    "MATCH p = (id:Id { id: $id })<-[:id]-(n:GraphNode)<-[ra]-(n1)<-[rb]-(n2)\n",
    "WHERE type(ra) <> \"id\" AND type(rb) <> \"id\"\n",
    "RETURN \"in_in\" AS direction, type(ra) as edge1, n1.`grebi:displayType` AS type1, type(rb) as edge2, n2.`grebi:displayType` as type2, count(p) as num\n",
    "UNION\n",
    "MATCH p = (id:Id { id: $id })<-[:id]-(n:GraphNode)<-[ra]-(n1)-[rb]->(n2)\n",
    "WHERE type(ra) <> \"id\" AND type(rb) <> \"id\"\n",
    "RETURN \"in_out\" AS direction, type(ra) as edge1, n1.`grebi:displayType` AS type1, type(rb) as edge2, n2.`grebi:displayType` as type2, count(p) as num\n",
    "UNION\n",
    "MATCH p = (id:Id { id: $id })<-[:id]-(n:GraphNode)-[ra]->(n1)-[rb]->(n2)\n",
    "WHERE type(ra) <> \"id\" AND type(rb) <> \"id\"\n",
    "RETURN \"out_out\" AS direction, type(ra) as edge1, n1.`grebi:displayType` AS type1, type(rb) as edge2, n2.`grebi:displayType` as type2, count(p) as num\n",
    "UNION\n",
    "MATCH p = (id:Id { id: $id })<-[:id]-(n:GraphNode)-[ra]->(n1)<-[rb]-(n2)\n",
    "WHERE type(ra) <> \"id\" AND type(rb) <> \"id\"\n",
    "RETURN \"out_in\" AS direction, type(ra) as edge1, n1.`grebi:displayType` AS type1, type(rb) as edge2, n2.`grebi:displayType` as type2, count(p) as num\n",
    "\"\"\",\n",
    "{'id': 'chebi:5063'}\n",
    ").data())\n",
    "\n",
    "df.to_csv(\"fipronil_aggr_counts.csv\", index=False)\n",
    "\n"
   ]
  },
  {
   "cell_type": "code",
   "execution_count": 40,
   "metadata": {},
   "outputs": [],
   "source": [
    "df = pd.read_csv(\"fipronil_aggr_counts.csv\", dtype=str)\n",
    "\n",
    "df['edge1'] = df['edge1'].str.replace(\"\\\"\", \"\")\n",
    "df['edge2'] = df['edge2'].str.replace(\"\\\"\", \"\")\n",
    "df['type1'] = df['type1'].str.replace(\"\\\"\", \"\")\n",
    "df['type2'] = df['type2'].str.replace(\"\\\"\", \"\")\n",
    "\n",
    "def path(row):\n",
    "    edge1 = \"?\" if pd.isna(row['edge1']) else row['edge1']\n",
    "    type1 = \"?\" if pd.isna(row['type1']) else row['type1']\n",
    "    edge2 = \"?\" if pd.isna(row['edge2']) else row['edge2']\n",
    "    type2 = \"?\" if pd.isna(row['type2']) else row['type2']\n",
    "    if row['direction'] == 'out_out':\n",
    "        return f'(R)-[{edge1}]->({type1})-[{edge2}]->({type2})'\n",
    "    if row['direction'] == 'in_in':\n",
    "        return f'(R)<-[{edge1}]-({type1})<-[{edge2}]-({type2})'\n",
    "    if row['direction'] == 'out_in':\n",
    "        return f'(R)-[{edge1}]->({type1})<-[{edge2}]-({type2})'\n",
    "    if row['direction'] == 'in_out':\n",
    "        return f'(R)<-[{edge1}]-({type1})-[{edge2}]->({type2})'\n",
    "    \n",
    "df['path'] = df.apply(path, axis=1)\n",
    "\n",
    "df.to_csv(\"fipronil_aggr_counts.csv\", index=False)\n"
   ]
  },
  {
   "cell_type": "code",
   "execution_count": 34,
   "metadata": {},
   "outputs": [],
   "source": [
    "\n",
    "df = pd.read_csv(\"fipronil_aggr_counts.csv\", dtype=str)\n",
    "\n",
    "min_size=30\n",
    "max_size = 500\n",
    "df['size'] = min_size+(df['num'].astype(float) / df['num'].astype(float).max())*(max_size-min_size)\n",
    "\n",
    "for edge in ['ols:hierarchicalParent', 'ols:relatedFrom', 'ols:relatedTo']:\n",
    "    df = df[~df['edge1'].str.contains(edge, na=False)]\n",
    "    df = df[~df['edge2'].str.contains(edge, na=False)]\n",
    "\n",
    "G = nx.DiGraph()\n",
    "G.add_node(\"root\", label=\"root\", type='root')\n",
    "\n",
    "for i, row in df.iterrows():\n",
    "    edge1 = \"?\" if pd.isna(row['edge1']) else row['edge1'].replace(\"\\\"\", \"\")\n",
    "    type1 = \"?\" if pd.isna(row['type1']) else row['type1'].replace(\"\\\"\", \"\")\n",
    "    edge2 = \"?\" if pd.isna(row['edge2']) else row['edge2'].replace(\"\\\"\", \"\")\n",
    "    type2 = \"?\" if pd.isna(row['type2']) else row['type2'].replace(\"\\\"\", \"\")\n",
    "    if row['direction'] == 'out_out':\n",
    "        middle_node_id = f'(R)-[{edge1}]->({type1})'\n",
    "        G.add_node(middle_node_id, label=type1)\n",
    "        G.add_edge(\"root\", middle_node_id, label=edge1)\n",
    "        end_node_id = f'{middle_node_id}-[{edge2}]->({type2})'\n",
    "        G.add_node(end_node_id, label=type2, num=int(row['num']), size=row['size'])\n",
    "        G.add_edge(middle_node_id, end_node_id, label=edge2)\n",
    "    if row['direction'] == 'in_in':\n",
    "        middle_node_id = f'(R)<-[{edge1}]-({type1})'\n",
    "        G.add_node(middle_node_id, label=type1)\n",
    "        G.add_edge(middle_node_id, \"root\", label=edge1)\n",
    "        end_node_id = f'{middle_node_id}<-[{edge2}]-({type2})'\n",
    "        G.add_node(end_node_id, label=type2, num=int(row['num']), size=row['size'])\n",
    "        G.add_edge(end_node_id, middle_node_id, label=edge2)\n",
    "    if row['direction'] == 'out_in':\n",
    "        middle_node_id = f'(R)-[{edge1}]->({type1})'\n",
    "        G.add_node(middle_node_id, label=type1)\n",
    "        G.add_edge(\"root\", middle_node_id, label=edge1)\n",
    "        end_node_id = f'{middle_node_id}<-[{edge2}]-({type2})'\n",
    "        G.add_node(end_node_id, label=type2, num=int(row['num']), size=row['size'])\n",
    "        G.add_edge(end_node_id, middle_node_id, label=edge2)\n",
    "    if row['direction'] == 'in_out':\n",
    "        middle_node_id = f'(R)<-[{edge1}]-({type1})'\n",
    "        G.add_node(middle_node_id, label=type1)\n",
    "        G.add_edge(middle_node_id, \"root\", label=edge1)\n",
    "        end_node_id = f'{middle_node_id}-[{edge2}]->({type2})'\n",
    "        G.add_node(end_node_id, label=type2, num=int(row['num']), size=row['size'])\n",
    "        G.add_edge(middle_node_id, end_node_id, label=edge2)        \n",
    "with open('fipronil_aggr_counts.cyjs.json', 'w') as f:\n",
    "    json.dump(nx.cytoscape_data(G, name=\"label\"), f, indent=2, default=str)\n"
   ]
  }
 ],
 "metadata": {
  "kernelspec": {
   "display_name": ".venv",
   "language": "python",
   "name": "python3"
  },
  "language_info": {
   "codemirror_mode": {
    "name": "ipython",
    "version": 3
   },
   "file_extension": ".py",
   "mimetype": "text/x-python",
   "name": "python",
   "nbconvert_exporter": "python",
   "pygments_lexer": "ipython3",
   "version": "3.12.3"
  }
 },
 "nbformat": 4,
 "nbformat_minor": 2
}
